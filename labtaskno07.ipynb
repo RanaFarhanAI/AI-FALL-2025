{
 "cells": [
  {
   "cell_type": "code",
   "execution_count": 3,
   "id": "49ff9cdd",
   "metadata": {},
   "outputs": [
    {
     "name": "stdout",
     "output_type": "stream",
     "text": [
      "Path found: [(0, 0), (1, 0), (2, 0), (2, 1), (2, 2), (3, 2), (3, 3), (3, 4)]\n"
     ]
    }
   ],
   "source": [
    "from queue import PriorityQueue\n",
    "\n",
    "def heuristic(a, b):\n",
    "    \"\"\"Heuristic function: Manhattan distance\"\"\"\n",
    "    return abs(a[0] - b[0]) + abs(a[1] - b[1])\n",
    "\n",
    "def a_star_search(start, goal, grid):\n",
    "    \"\"\"A* algorithm implementation\"\"\"\n",
    "    rows, cols = len(grid), len(grid[0])\n",
    "    open_set = PriorityQueue()\n",
    "    open_set.put((0, start))\n",
    "    came_from = {}\n",
    "    g_score = {start: 0}\n",
    "    f_score = {start: heuristic(start, goal)}\n",
    "\n",
    "    while not open_set.empty():\n",
    "        _, current = open_set.get()\n",
    "\n",
    "        if current == goal:\n",
    "           \n",
    "            path = []\n",
    "            while current in came_from:\n",
    "                path.append(current)\n",
    "                current = came_from[current]\n",
    "            path.append(start)\n",
    "            path.reverse()\n",
    "            return path\n",
    "\n",
    "        x, y = current\n",
    "        for dx, dy in [(0,1), (1,0), (0,-1), (-1,0)]:   \n",
    "            neighbor = (x + dx, y + dy)\n",
    "\n",
    "            if 0 <= neighbor[0] < rows and 0 <= neighbor[1] < cols and grid[neighbor[0]][neighbor[1]] == 0:\n",
    "                temp_g = g_score[current] + 1\n",
    "\n",
    "                if neighbor not in g_score or temp_g < g_score[neighbor]:\n",
    "                    came_from[neighbor] = current\n",
    "                    g_score[neighbor] = temp_g\n",
    "                    f_score[neighbor] = temp_g + heuristic(neighbor, goal)\n",
    "                    open_set.put((f_score[neighbor], neighbor))\n",
    "\n",
    "    return None   \n",
    "\n",
    "\n",
    " \n",
    "grid = [\n",
    "    [0, 1, 0, 0, 0],\n",
    "    [0, 1, 0, 1, 0],\n",
    "    [0, 0, 0, 1, 0],\n",
    "    [1, 1, 0, 0, 0]\n",
    "]\n",
    "\n",
    "start = (0, 0)\n",
    "goal = (3, 4)\n",
    "path = a_star_search(start, goal, grid)\n",
    "\n",
    "if path:\n",
    "    print(\"Path found:\", path)\n",
    "else:\n",
    "    print(\"No path found.\")\n"
   ]
  }
 ],
 "metadata": {
  "kernelspec": {
   "display_name": "base",
   "language": "python",
   "name": "python3"
  },
  "language_info": {
   "codemirror_mode": {
    "name": "ipython",
    "version": 3
   },
   "file_extension": ".py",
   "mimetype": "text/x-python",
   "name": "python",
   "nbconvert_exporter": "python",
   "pygments_lexer": "ipython3",
   "version": "3.12.7"
  }
 },
 "nbformat": 4,
 "nbformat_minor": 5
}
