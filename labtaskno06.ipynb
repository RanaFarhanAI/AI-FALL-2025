{
 "cells": [
  {
   "cell_type": "markdown",
   "id": "c43ac6a7",
   "metadata": {},
   "source": [
    "# Name:   Rana Farhan Mehboob\n",
    "# Roll no  :     199\n",
    "# Subject:     AI(Lab)\n",
    "# Section:     BSAI-3C\n",
    "# Submitted to:  Sir Rasik Ali"
   ]
  },
  {
   "cell_type": "markdown",
   "id": "35fd5323",
   "metadata": {},
   "source": []
  },
  {
   "cell_type": "markdown",
   "id": "9967127d",
   "metadata": {},
   "source": []
  },
  {
   "cell_type": "markdown",
   "id": "fe1490c7",
   "metadata": {},
   "source": []
  },
  {
   "cell_type": "markdown",
   "id": "9a014f9a",
   "metadata": {},
   "source": [
    "# 1.\tBFS without Queue"
   ]
  },
  {
   "cell_type": "code",
   "execution_count": 3,
   "id": "9af9f42b",
   "metadata": {},
   "outputs": [
    {
     "name": "stdout",
     "output_type": "stream",
     "text": [
      "BFS Traversal (without Queue):\n",
      "A B C D E F "
     ]
    }
   ],
   "source": [
    "def bfs_without_queue(graph, start):\n",
    "    visited = []             \n",
    "    level = [start]          \n",
    "\n",
    "    while level:\n",
    "        next_level = []      \n",
    "        for node in level:\n",
    "            if node not in visited:\n",
    "                print(node, end=\" \")    \n",
    "                visited.append(node)\n",
    "\n",
    "                 \n",
    "                for neighbor in graph[node]:\n",
    "                    if neighbor not in visited and neighbor not in next_level:\n",
    "                        next_level.append(neighbor)\n",
    "        level = next_level  \n",
    "\n",
    "\n",
    " \n",
    "graph = {\n",
    "    'A': ['B', 'C'],\n",
    "    'B': ['D', 'E'],\n",
    "    'C': ['F'],\n",
    "    'D': [],\n",
    "    'E': ['F'],\n",
    "    'F': []\n",
    "}\n",
    "\n",
    " \n",
    "print(\"BFS Traversal (without Queue):\")\n",
    "bfs_without_queue(graph, 'A')\n"
   ]
  },
  {
   "cell_type": "markdown",
   "id": "3974bcdb",
   "metadata": {},
   "source": []
  },
  {
   "cell_type": "markdown",
   "id": "fa5aaef9",
   "metadata": {},
   "source": []
  },
  {
   "cell_type": "markdown",
   "id": "f8921733",
   "metadata": {},
   "source": []
  },
  {
   "cell_type": "markdown",
   "id": "1f1c5324",
   "metadata": {},
   "source": [
    "# BFS with Queue"
   ]
  },
  {
   "cell_type": "code",
   "execution_count": 2,
   "id": "ea3908f7",
   "metadata": {},
   "outputs": [
    {
     "name": "stdout",
     "output_type": "stream",
     "text": [
      "BFS Traversal:\n",
      "A B C D E F "
     ]
    }
   ],
   "source": [
    "from collections import deque\n",
    "\n",
    "def bfs_with_queue(graph, start):\n",
    "    visited = []                   \n",
    "    queue = deque([start])         \n",
    "\n",
    "    while queue:\n",
    "        vertex = queue.popleft()   \n",
    "        if vertex not in visited:\n",
    "            print(vertex, end=\" \")   \n",
    "            visited.append(vertex)\n",
    "\n",
    "             \n",
    "            for neighbor in graph[vertex]:\n",
    "                if neighbor not in visited:\n",
    "                    queue.append(neighbor)\n",
    "\n",
    "\n",
    " \n",
    "graph = {\n",
    "    'A': ['B', 'C'],\n",
    "    'B': ['D', 'E'],\n",
    "    'C': ['F'],\n",
    "    'D': [],\n",
    "    'E': ['F'],\n",
    "    'F': []\n",
    "}\n",
    "\n",
    " \n",
    "print(\"BFS Traversal:\")\n",
    "bfs_with_queue(graph, 'A')\n"
   ]
  }
 ],
 "metadata": {
  "kernelspec": {
   "display_name": "base",
   "language": "python",
   "name": "python3"
  },
  "language_info": {
   "codemirror_mode": {
    "name": "ipython",
    "version": 3
   },
   "file_extension": ".py",
   "mimetype": "text/x-python",
   "name": "python",
   "nbconvert_exporter": "python",
   "pygments_lexer": "ipython3",
   "version": "3.12.7"
  }
 },
 "nbformat": 4,
 "nbformat_minor": 5
}
