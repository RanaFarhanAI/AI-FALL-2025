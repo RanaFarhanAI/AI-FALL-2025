{
 "cells": [
  {
   "cell_type": "markdown",
   "id": "7c52e5a9",
   "metadata": {},
   "source": [
    "# Task no : 04"
   ]
  },
  {
   "cell_type": "code",
   "execution_count": 3,
   "id": "28f1364c",
   "metadata": {},
   "outputs": [
    {
     "name": "stdout",
     "output_type": "stream",
     "text": [
      "ranafarhan\n"
     ]
    }
   ],
   "source": [
    "# Question: Write a Python program that removes all punctuation from a given string.\n",
    "\n",
    "string = input(\"Enter a string: \")\n",
    "punctuations = \".,;:?!'\\\"-–—()[]{}/ ,> ,< , @ ,# ,$ ,% ,^ ,& ,* ,~ ,` ,| ,\\\\ , + ,= , _ , \\n , \\t,  \"\n",
    "for p in punctuations:\n",
    "    if p in string:\n",
    "        string = string.replace(p, \"\")\n",
    "print(string)"
   ]
  },
  {
   "cell_type": "code",
   "execution_count": 5,
   "id": "386ac1a3",
   "metadata": {},
   "outputs": [
    {
     "name": "stdout",
     "output_type": "stream",
     "text": [
      "Invalid Card\n"
     ]
    }
   ],
   "source": [
    "# Question no 2: Implement the Luhn algorithm in Python to validate a credit card number.\n",
    "def LUHN_Algorithm(card_number):\n",
    "    digits = [int(d) for d in str(card_number)]\n",
    "    numbers = digits.pop()\n",
    "    digits.reverse()\n",
    "\n",
    "    for i in range(0, len(digits), 2):\n",
    "        digits[i] *= 2\n",
    "        if digits[i] > 9:\n",
    "            digits[i] -= 9\n",
    "\n",
    "    total = sum(digits) + numbers\n",
    "    return total % 10 == 0\n",
    "card_number = 75305667731117755\n",
    "print(\"Valid Card\" if LUHN_Algorithm(card_number) else \"Invalid Card\")"
   ]
  },
  {
   "cell_type": "code",
   "execution_count": 9,
   "id": "fc4061bf",
   "metadata": {},
   "outputs": [
    {
     "name": "stdout",
     "output_type": "stream",
     "text": [
      "Words arranged: Farhan is Mehboob My name Rana\n",
      "Letter arranged: My aemn is aanR aaFhnr bbehMoo\n"
     ]
    }
   ],
   "source": [
    "# Question no 3: Write a Python program that takes a string input and arranges the words in alphabetical order. Additionally, arrange the letters within each word in alphabetical order.\n",
    "def arr_words(text):\n",
    "    part = text.split()\n",
    "    n = len(part)\n",
    "\n",
    "    for a in range(n):\n",
    "        for b in range(0, n - a - 1):\n",
    "            if part[b].lower() > part[b + 1].lower():\n",
    "                part[b], part[b + 1] = part[b + 1], part[b]\n",
    "\n",
    "    return \" \".join(part)\n",
    "def arr_letters(text):\n",
    "    words = text.split()\n",
    "    new_list = []\n",
    "\n",
    "    for item in words:\n",
    "        letters = list(item)\n",
    "        size = len(letters)\n",
    "\n",
    "        for x in range(size):\n",
    "            for y in range(0, size - x - 1):\n",
    "                if letters[y].lower() > letters[y + 1].lower():\n",
    "                    letters[y], letters[y + 1] = letters[y + 1], letters[y]\n",
    "\n",
    "        new_list.append(\"\".join(letters))\n",
    "\n",
    "    return \" \".join(new_list)\n",
    "\n",
    "word  = \"My name is  Rana Farhan Mehboob \"\n",
    "print(\"Words arranged:\", arr_words(word))\n",
    "print(\"Letter arranged:\", arr_letters(word))"
   ]
  }
 ],
 "metadata": {
  "kernelspec": {
   "display_name": "base",
   "language": "python",
   "name": "python3"
  },
  "language_info": {
   "codemirror_mode": {
    "name": "ipython",
    "version": 3
   },
   "file_extension": ".py",
   "mimetype": "text/x-python",
   "name": "python",
   "nbconvert_exporter": "python",
   "pygments_lexer": "ipython3",
   "version": "3.12.7"
  }
 },
 "nbformat": 4,
 "nbformat_minor": 5
}
