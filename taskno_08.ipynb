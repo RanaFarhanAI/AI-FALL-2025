{
 "cells": [
  {
   "cell_type": "code",
   "execution_count": 6,
   "id": "ec3e4049",
   "metadata": {},
   "outputs": [
    {
     "name": "stdout",
     "output_type": "stream",
     "text": [
      "Path found: ['A', 'B', 'D']\n"
     ]
    },
    {
     "data": {
      "text/plain": [
       "['A', 'B', 'D']"
      ]
     },
     "execution_count": 6,
     "metadata": {},
     "output_type": "execute_result"
    }
   ],
   "source": [
    "class Graph:\n",
    "    def __init__(self, edg_list):\n",
    "        self.edg_list = edg_list\n",
    "\n",
    "    def get_neighbors(self, node):\n",
    "        return self.edg_list[node]\n",
    "\n",
    "    \n",
    "    def heuristic(self, node):\n",
    "        heuristic_values = {\n",
    "            'A': 1,\n",
    "            'B': 1,\n",
    "            'C': 1,\n",
    "            'D': 1\n",
    "        }\n",
    "        return heuristic_values[node]\n",
    "\n",
    "    def a_star(self, start, goal):\n",
    "        open_nodes = [start]\n",
    "        closed_nodes = []\n",
    "\n",
    "      \n",
    "        g_score = {start: 0}\n",
    "\n",
    "        \n",
    "        parent = {start: start}\n",
    "\n",
    "        while len(open_nodes) > 0:\n",
    "            cur_node = None\n",
    "\n",
    "             \n",
    "            for node in open_nodes:\n",
    "                if cur_node is None or g_score[node] + self.heuristic(node) < g_score[cur_node] + self.heuristic(cur_node):\n",
    "                    cur_node = node\n",
    "\n",
    "            if cur_node is None:\n",
    "                print(\"Path does not exist!\")\n",
    "                return None\n",
    "\n",
    "            \n",
    "            if cur_node == goal:\n",
    "                path = []\n",
    "                while parent[cur_node] != cur_node:\n",
    "                    path.append(cur_node)\n",
    "                    cur_node = parent[cur_node]\n",
    "                path.append(start)\n",
    "                path.reverse()\n",
    "\n",
    "                print(\"Path found:\", path)\n",
    "                return path\n",
    "\n",
    "            \n",
    "            for (N_B, cost) in self.get_neighbors(cur_node):\n",
    "                if N_B not in open_nodes and N_B not in closed_nodes:\n",
    "                    open_nodes.append(N_B)\n",
    "                    parent[N_B] = cur_node\n",
    "                    g_score[N_B] = g_score[cur_node] + cost\n",
    "                else:\n",
    "                    if g_score[N_B] > g_score[cur_node] + cost:\n",
    "                        g_score[N_B] = g_score[cur_node] + cost\n",
    "                        parent[N_B] = cur_node\n",
    "\n",
    "                        if N_B in closed_nodes:\n",
    "                            closed_nodes.remove(N_B)\n",
    "                            open_nodes.append(N_B)\n",
    "\n",
    "            open_nodes.remove(cur_node)\n",
    "            closed_nodes.append(cur_node)\n",
    "\n",
    "        print(\"Path does not exist!\")\n",
    "        return None\n",
    "\n",
    "\n",
    " \n",
    "edg_list = {\n",
    "    'A': [('B', 1), ('C', 3), ('D', 7)],\n",
    "    'B': [('D', 5)],\n",
    "    'C': [('D', 12)]\n",
    "}\n",
    "\n",
    "graph = Graph(edg_list)\n",
    "graph.a_star('A', 'D')\n"
   ]
  }
 ],
 "metadata": {
  "kernelspec": {
   "display_name": "base",
   "language": "python",
   "name": "python3"
  },
  "language_info": {
   "codemirror_mode": {
    "name": "ipython",
    "version": 3
   },
   "file_extension": ".py",
   "mimetype": "text/x-python",
   "name": "python",
   "nbconvert_exporter": "python",
   "pygments_lexer": "ipython3",
   "version": "3.12.7"
  }
 },
 "nbformat": 4,
 "nbformat_minor": 5
}
