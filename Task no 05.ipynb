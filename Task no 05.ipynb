{
 "cells": [
  {
   "cell_type": "markdown",
   "id": "1d6af0de",
   "metadata": {},
   "source": [
    "# Task no : 05"
   ]
  },
  {
   "cell_type": "code",
   "execution_count": 4,
   "id": "bff74b24",
   "metadata": {},
   "outputs": [
    {
     "name": "stdout",
     "output_type": "stream",
     "text": [
      "DFS traversal using stack:\n",
      "A B D E F C "
     ]
    }
   ],
   "source": [
    "# Question no 01 : Depth-First Search (DFS) using a stack\n",
    "def dfs_with_stack(graph, start):\n",
    "    visited = set()       \n",
    "    stack = [start]       \n",
    "\n",
    "    while stack:\n",
    "        node = stack.pop()   \n",
    "        if node not in visited:\n",
    "            print(node, end=\" \")   \n",
    "            visited.add(node)\n",
    "\n",
    "        \n",
    "            for neighbor in reversed(graph[node]):\n",
    "                if neighbor not in visited:\n",
    "                    stack.append(neighbor)\n",
    "\n",
    "\n",
    " \n",
    "graph = {\n",
    "    'A': ['B', 'C'],\n",
    "    'B': ['D', 'E'],\n",
    "    'C': ['F'],\n",
    "    'D': [],\n",
    "    'E': ['F'],\n",
    "    'F': []\n",
    "}\n",
    "\n",
    " \n",
    "print(\"DFS traversal using stack:\")\n",
    "dfs_with_stack(graph, 'A')\n"
   ]
  },
  {
   "cell_type": "code",
   "execution_count": 5,
   "id": "ae135249",
   "metadata": {},
   "outputs": [
    {
     "name": "stdout",
     "output_type": "stream",
     "text": [
      "Preorder:\n",
      "A B D E C F \n",
      "Inorder:\n",
      "D B E A F C \n",
      "Postorder:\n",
      "D E B F C A "
     ]
    }
   ],
   "source": [
    "# Question no 02 : Tree Traversals (Preorder, Inorder, Postorder)\n",
    "# Tree Node\n",
    "class Node:\n",
    "    def __init__(self, value):\n",
    "        self.value = value\n",
    "        self.left = None\n",
    "        self.right = None\n",
    "\n",
    "# Preorder: Root -> Left -> Right\n",
    "def preorder(root):\n",
    "    if root:\n",
    "        print(root.value, end=\" \")\n",
    "        preorder(root.left)\n",
    "        preorder(root.right)\n",
    "\n",
    "# Inorder: Left -> Root -> Right\n",
    "def inorder(root):\n",
    "    if root:\n",
    "        inorder(root.left)\n",
    "        print(root.value, end=\" \")\n",
    "        inorder(root.right)\n",
    "\n",
    "# Postorder: Left -> Right -> Root\n",
    "def postorder(root):\n",
    "    if root:\n",
    "        postorder(root.left)\n",
    "        postorder(root.right)\n",
    "        print(root.value, end=\" \")\n",
    "\n",
    "# Example Tree\n",
    "#        A\n",
    "#      /   \\\n",
    "#     B     C\n",
    "#    / \\   /\n",
    "#   D   E F\n",
    "\n",
    "root = Node(\"A\")\n",
    "root.left = Node(\"B\")\n",
    "root.right = Node(\"C\")\n",
    "root.left.left = Node(\"D\")\n",
    "root.left.right = Node(\"E\")\n",
    "root.right.left = Node(\"F\")\n",
    "\n",
    "print(\"Preorder:\")\n",
    "preorder(root)   # A B D E C F\n",
    "\n",
    "print(\"\\nInorder:\")\n",
    "inorder(root)    # D B E A F C\n",
    "\n",
    "print(\"\\nPostorder:\")\n",
    "postorder(root)  # D E B F C A\n"
   ]
  }
 ],
 "metadata": {
  "kernelspec": {
   "display_name": "base",
   "language": "python",
   "name": "python3"
  },
  "language_info": {
   "codemirror_mode": {
    "name": "ipython",
    "version": 3
   },
   "file_extension": ".py",
   "mimetype": "text/x-python",
   "name": "python",
   "nbconvert_exporter": "python",
   "pygments_lexer": "ipython3",
   "version": "3.12.7"
  }
 },
 "nbformat": 4,
 "nbformat_minor": 5
}
