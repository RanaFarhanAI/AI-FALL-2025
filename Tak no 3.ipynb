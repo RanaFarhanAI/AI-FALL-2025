{
 "cells": [
  {
   "cell_type": "code",
   "execution_count": 20,
   "id": "38d7cb13",
   "metadata": {},
   "outputs": [
    {
     "name": "stdout",
     "output_type": "stream",
     "text": [
      "Living Room Temperatue is   25   => Action: Turn On the AC\n",
      "Drawing Room Temperature is 27   => Action: Turn On the AC\n",
      "Kitchen Temperature is      30   => Action: Turn On the AC\n",
      "Bedroom Temperature is      26   => Action: Turn On the AC\n",
      "\n",
      "Thank you for wacthing this code\n"
     ]
    }
   ],
   "source": [
    "\n",
    "class SimpleReflexAgent:\n",
    "    def __init__(self, temperature):\n",
    "        self.fix_temp = temperature\n",
    "        self.current_temp = None\n",
    "\n",
    "    def sensor(self, temperature):\n",
    "        self.curt_temp = temperature\n",
    "\n",
    "    def performance(self):\n",
    "        action = None\n",
    "        if self.curt_temp > self.fix_temp:\n",
    "            action = \"Turn On the AC\"\n",
    "        else:\n",
    "            action = \"Turn Off the AC\"\n",
    "        return action\n",
    "\n",
    "    def actuator(self):\n",
    "        action = self.performance()\n",
    "        print(self.curt_temp, \"  => Action:\", action)\n",
    "\n",
    "agent = SimpleReflexAgent(16)\n",
    "rooms = {\n",
    "    \"Living Room Temperatue is  \": 25, \n",
    "    \"Drawing Room Temperature is\": 27,\n",
    "    \"Kitchen Temperature is     \": 30,\n",
    "    \"Bedroom Temperature is     \": 26,\n",
    "}\n",
    "for room, temperature in rooms.items():\n",
    "    print(room, end=\" \")\n",
    "    agent.sensor(temperature)\n",
    "    agent.actuator()\n",
    "    \n",
    "    \n",
    "print(\"\\n\" \"Thank you for wacthing this code\") \n",
    "\n",
    "\n",
    " "
   ]
  }
 ],
 "metadata": {
  "kernelspec": {
   "display_name": "base",
   "language": "python",
   "name": "python3"
  },
  "language_info": {
   "codemirror_mode": {
    "name": "ipython",
    "version": 3
   },
   "file_extension": ".py",
   "mimetype": "text/x-python",
   "name": "python",
   "nbconvert_exporter": "python",
   "pygments_lexer": "ipython3",
   "version": "3.12.7"
  }
 },
 "nbformat": 4,
 "nbformat_minor": 5
}
